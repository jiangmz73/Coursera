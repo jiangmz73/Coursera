{
  "nbformat": 4,
  "nbformat_minor": 0,
  "metadata": {
    "colab": {
      "name": "em_assignment_jmz.ipynb",
      "provenance": [],
      "collapsed_sections": []
    },
    "kernelspec": {
      "display_name": "Python 3",
      "language": "python",
      "name": "python3"
    }
  },
  "cells": [
    {
      "cell_type": "markdown",
      "metadata": {
        "id": "jlo4V6MRBEDQ"
      },
      "source": [
        "# First things first\n",
        "Click **File -> Save a copy in Drive** and click **Open in new tab** in the pop-up window to save your progress in Google Drive."
      ]
    },
    {
      "cell_type": "markdown",
      "metadata": {
        "id": "WMlNHfVxBEDT"
      },
      "source": [
        "# Expectation-maximization algorithm"
      ]
    },
    {
      "cell_type": "markdown",
      "metadata": {
        "id": "icS4MsxIBEDU"
      },
      "source": [
        "In this assignment, we will derive and implement formulas for Gaussian Mixture Model — one of the most commonly used methods for performing soft clustering of the data. "
      ]
    },
    {
      "cell_type": "markdown",
      "metadata": {
        "id": "jequoJfSBEDV"
      },
      "source": [
        "### Setup\n",
        "Loading auxiliary files and importing the necessary libraries."
      ]
    },
    {
      "cell_type": "code",
      "metadata": {
        "id": "ZqZo-y9UBEDX",
        "outputId": "e20bc2e1-91c2-42a0-aa2d-96a8bdd6a2a3",
        "colab": {
          "base_uri": "https://localhost:8080/",
          "height": 272
        }
      },
      "source": [
        "try:\n",
        "    import google.colab\n",
        "    IN_COLAB = True\n",
        "except:\n",
        "    IN_COLAB = False\n",
        "if IN_COLAB:\n",
        "    print(\"Downloading Colab files\")\n",
        "    ! shred -u setup_google_colab.py\n",
        "    ! wget https://raw.githubusercontent.com/hse-aml/bayesian-methods-for-ml/master/setup_google_colab.py -O setup_google_colab.py\n",
        "    import setup_google_colab\n",
        "    setup_google_colab.load_data_week2()"
      ],
      "execution_count": null,
      "outputs": [
        {
          "output_type": "stream",
          "text": [
            "Downloading Colab files\n",
            "shred: setup_google_colab.py: failed to open for writing: No such file or directory\n",
            "--2020-09-29 08:31:05--  https://raw.githubusercontent.com/hse-aml/bayesian-methods-for-ml/master/setup_google_colab.py\n",
            "Resolving raw.githubusercontent.com (raw.githubusercontent.com)... 151.101.0.133, 151.101.64.133, 151.101.128.133, ...\n",
            "Connecting to raw.githubusercontent.com (raw.githubusercontent.com)|151.101.0.133|:443... connected.\n",
            "HTTP request sent, awaiting response... 200 OK\n",
            "Length: 1232 (1.2K) [text/plain]\n",
            "Saving to: ‘setup_google_colab.py’\n",
            "\n",
            "setup_google_colab. 100%[===================>]   1.20K  --.-KB/s    in 0s      \n",
            "\n",
            "2020-09-29 08:31:05 (50.1 MB/s) - ‘setup_google_colab.py’ saved [1232/1232]\n",
            "\n",
            "https://raw.githubusercontent.com/hse-aml/bayesian-methods-for-ml/master/week2/w2_grader.py w2_grader.py\n",
            "https://raw.githubusercontent.com/hse-aml/bayesian-methods-for-ml/master/week2/samples.npz samples.npz\n"
          ],
          "name": "stdout"
        }
      ]
    },
    {
      "cell_type": "code",
      "metadata": {
        "id": "urylZcbeBEDc"
      },
      "source": [
        "import numpy as np\n",
        "from numpy.linalg import slogdet, det, solve, inv\n",
        "import matplotlib.pyplot as plt\n",
        "import time\n",
        "import math\n",
        "from sklearn.datasets import load_digits\n",
        "from w2_grader import EMGrader\n",
        "from scipy.stats import multivariate_normal\n",
        "\n",
        "%matplotlib inline"
      ],
      "execution_count": null,
      "outputs": []
    },
    {
      "cell_type": "markdown",
      "metadata": {
        "id": "tP8l9frZBEDf"
      },
      "source": [
        "### Grading\n",
        "We will create a grader instance below and use it to collect your answers. Note that these outputs will be stored locally inside grader and will be uploaded to the platform only after running submitting function in the last part of this assignment. If you want to make a partial submission, you can run that cell anytime you want."
      ]
    },
    {
      "cell_type": "code",
      "metadata": {
        "id": "7Gvy3EOvBEDg"
      },
      "source": [
        "grader = EMGrader()"
      ],
      "execution_count": null,
      "outputs": []
    },
    {
      "cell_type": "markdown",
      "metadata": {
        "id": "dL3A2sntBEDj"
      },
      "source": [
        "## Implementing EM for GMM"
      ]
    },
    {
      "cell_type": "markdown",
      "metadata": {
        "id": "0xPS_VdpBEDk"
      },
      "source": [
        "For debugging, we will use samples from a Gaussian mixture model with unknown mean, variance, and priors. We also added initial values of parameters for grading purposes."
      ]
    },
    {
      "cell_type": "code",
      "metadata": {
        "id": "g9_aOn94BEDl",
        "outputId": "e8820395-b86f-4144-d515-a8f1ebb568c9",
        "colab": {
          "base_uri": "https://localhost:8080/",
          "height": 265
        }
      },
      "source": [
        "samples = np.load('samples.npz')\n",
        "X = samples['data']\n",
        "pi0 = samples['pi0']\n",
        "mu0 = samples['mu0']\n",
        "sigma0 = samples['sigma0']\n",
        "plt.scatter(X[:, 0], X[:, 1], c='grey', s=30)\n",
        "plt.axis('equal')\n",
        "plt.show()"
      ],
      "execution_count": null,
      "outputs": [
        {
          "output_type": "display_data",
          "data": {
            "image/png": "[encoded data removed]",
            "text/plain": [
              "<Figure size 432x288 with 1 Axes>"
            ]
          },
          "metadata": {
            "tags": [],
            "needs_background": "light"
          }
        }
      ]
    },
    {
      "cell_type": "markdown",
      "metadata": {
        "id": "AmgeHTCfBEDp"
      },
      "source": [
        "### Reminder"
      ]
    },
    {
      "cell_type": "markdown",
      "metadata": {
        "id": "RgAwWi1nBEDq"
      },
      "source": [
        "Remember, that EM algorithm is a coordinate descent optimization of variational lower bound $\\mathcal{L}(\\theta, q) = \\int q(T) \\log\\frac{p(X, T|\\theta)}{q(T)}dT\\to \\max$.\n",
        "\n",
        "<b>E-step</b>:<br>\n",
        "$\\mathcal{L}(\\theta, q) \\to \\max\\limits_{q} \\Leftrightarrow \\mathcal{KL} [q(T) \\,\\|\\, p(T|X, \\theta)] \\to \\min \\limits_{q\\in Q} \\Rightarrow q(T) = p(T|X, \\theta)$<br>\n",
        "<b>M-step</b>:<br> \n",
        "$\\mathcal{L}(\\theta, q) \\to \\max\\limits_{\\theta} \\Leftrightarrow \\mathbb{E}_{q(T)}\\log p(X,T | \\theta) \\to \\max\\limits_{\\theta}$\n",
        "\n",
        "For GMM, $\\theta$ is a set of parameters that consists of mean vectors $\\mu_c$, covariance matrices $\\Sigma_c$ and priors $\\pi_c$ for each component.\n",
        "\n",
        "Latent variables $T$ are indices of components to which each data point is assigned, i.e. $t_i$  is the cluster index for object $x_i$.\n",
        "\n",
        "The joint distribution can be written as follows: $\\log p(T, X \\mid \\theta) =  \\sum\\limits_{i=1}^N \\log p(t_i, x_i \\mid \\theta) = \\sum\\limits_{i=1}^N \\sum\\limits_{c=1}^C q(t_i = c) \\log \\left (\\pi_c \\, f_{\\!\\mathcal{N}}(x_i \\mid \\mu_c, \\Sigma_c)\\right)$,\n",
        "where $f_{\\!\\mathcal{N}}(x \\mid \\mu_c, \\Sigma_c) = \\frac{1}{\\sqrt{(2\\pi)^n|\\boldsymbol\\Sigma_c|}}\n",
        "\\exp\\left(-\\frac{1}{2}({x}-{\\mu_c})^T{\\boldsymbol\\Sigma_c}^{-1}({x}-{\\mu_c})\n",
        "\\right)$ is the probability density function (pdf) of the normal distribution $\\mathcal{N}(x_i \\mid \\mu_c, \\Sigma_c)$."
      ]
    },
    {
      "cell_type": "markdown",
      "metadata": {
        "id": "ELmi1nAtBEDr"
      },
      "source": [
        "### E-step\n",
        "In this step we need to estimate the posterior distribution over the latent variables with fixed values of parameters: $q_i(t_i) = p(t_i \\mid x_i, \\theta)$. We assume that $t_i$ equals to the cluster index of the true component of the $x_i$ object. To do so we need to compute $\\gamma_{ic} = p(t_i = c \\mid x_i, \\theta)$. Note that $\\sum\\limits_{c=1}^C\\gamma_{ic}=1$.\n"
      ]
    },
    {
      "cell_type": "markdown",
      "metadata": {
        "id": "53FR1RJ9BEDs"
      },
      "source": [
        "<b>Important trick 1:</b> It is important to avoid numerical errors. At some point you will have to compute the formula of the following form: $\\frac{e^{y_i}}{\\sum_j e^{y_j}}$, which is called _softmax_. When you compute exponents of large numbers, some numbers may become infinity. You can avoid this by dividing numerator and denominator by $e^{\\max(y)}$: $\\frac{e^{y_i-\\max(y)}}{\\sum_j e^{y_j - \\max(y)}}$. After this transformation maximum value in the denominator will be equal to one. All other terms will contribute smaller values. So, to compute desired formula you first subtract maximum value from each component in vector $\\mathbf{y}$ and then compute everything else as before.\n",
        "\n",
        "<b>Important trick 2:</b> You will probably need to compute formula of the form $A^{-1}x$ at some point. You would normally inverse $A$ and then multiply it by $x$. A bit faster and more numerically accurate way to do this is to directly solve equation $Ay = x$ by using a special function. Its solution is $y=A^{-1}x$, but the equation $Ay = x$ can be solved by methods which do not explicitely invert the matrix. You can use ```np.linalg.solve``` for this.\n",
        "\n",
        "<b>Other usefull functions: </b> <a href=\"https://docs.scipy.org/doc/numpy/reference/generated/numpy.linalg.slogdet.html\">```slogdet```</a> and <a href=\"https://docs.scipy.org/doc/numpy/reference/generated/numpy.linalg.det.html#numpy.linalg.det\">```det```</a>"
      ]
    },
    {
      "cell_type": "markdown",
      "metadata": {
        "id": "KL87Q8-TBEDu"
      },
      "source": [
        "<b>Task 1:</b> Implement E-step for GMM using template below."
      ]
    },
    {
      "cell_type": "code",
      "metadata": {
        "id": "wCUCaD28BEDw"
      },
      "source": [
        "def pdf(x,sigma,mu,d):\n",
        "  f_N=(2*math.pi**d*det(sigma))**(-1/2)*np.exp(-1/2*np.dot(np.dot(np.transpose(x-mu),inv(sigma)),x-mu))\n",
        "  return f_N\n",
        "def E_step(X, pi, mu, sigma):\n",
        "    \"\"\"\n",
        "    Performs E-step on GMM model\n",
        "    Each input is numpy array:\n",
        "     \n",
        "    X: (N x d), data points\n",
        "    pi: (C), mixture component weights \n",
        "    mu: (C x d), mixture component means\n",
        "    sigma: (C x d x d), mixture component covariance matrices\n",
        "    \n",
        "    Returns:\n",
        "    gamma: (N x C), probabilities of clusters for objects\n",
        "    \"\"\"\n",
        "    N = X.shape[0] # number of objects\n",
        "    C = pi.shape[0] # number of clusters\n",
        "    d = mu.shape[1] # dimension of each object\n",
        "    gamma = np.zeros((N, C)) # distribution q(T)\n",
        "\n",
        "    ### YOUR CODE HERE\n",
        "    for i in range(0,N):\n",
        "      for t in range(0,C):\n",
        "        gamma[i][t]=pi[t]*pdf(X[i,:],sigma[t,:,:],mu[t,:],2) #pi[t] was missing\n",
        "      gamma[i,:]=gamma[i,:]/np.sum(gamma[i,:])\n",
        "\n",
        "    return gamma"
      ],
      "execution_count": null,
      "outputs": []
    },
    {
      "cell_type": "code",
      "metadata": {
        "id": "xlhktOlMBED1",
        "outputId": "6869d783-19d4-4dfa-e7da-13cbe80306cc",
        "colab": {
          "base_uri": "https://localhost:8080/",
          "height": 34
        }
      },
      "source": [
        "gamma = E_step(X, pi0, mu0, sigma0)\n",
        "grader.submit_e_step(gamma)"
      ],
      "execution_count": null,
      "outputs": [
        {
          "output_type": "stream",
          "text": [
            "Current answer for task Task 1 (E-step) is: 0.5337178741081263\n"
          ],
          "name": "stdout"
        }
      ]
    },
    {
      "cell_type": "markdown",
      "metadata": {
        "id": "fERrQWSCBED5"
      },
      "source": [
        "### M-step\n",
        "\n",
        "In M-step we need to maximize $\\mathbb{E}_{q(T)}\\log p(X,T | \\theta)$ with respect to $\\theta$. In our model this means that we need to find optimal values of $\\pi$, $\\mu$, $\\Sigma$. To do so, you need to compute the derivatives and \n",
        "set them to zero. You should start by deriving formulas for $\\mu$ as it is the easiest part. Then move on to $\\Sigma$. Here it is crucial to optimize function w.r.t. to $\\Lambda = \\Sigma^{-1}$ and then inverse obtained result. Finaly, to compute $\\pi$, you will need <a href=\"https://www3.nd.edu/~jstiver/FIN360/Constrained%20Optimization.pdf\">Lagrange Multipliers technique</a> to satisfy constraint $\\sum\\limits_{i=1}^{n}\\pi_i = 1$.\n",
        "\n",
        "<br>\n",
        "<b>Important note:</b> You will need to compute derivatives of scalars with respect to matrices. To refresh this technique from previous courses, see <a href=\"https://en.wikipedia.org/wiki/Matrix_calculus\"> wiki article</a> about it . Main formulas of matrix derivatives can be found in <a href=\"http://www2.imm.dtu.dk/pubdb/views/edoc_download.php/3274/pdf/imm3274.pdf\">Chapter 2 of The Matrix Cookbook</a>. For example, there you may find that $\\frac{\\partial}{\\partial A}\\log |A| = A^{-T}$.\n"
      ]
    },
    {
      "cell_type": "markdown",
      "metadata": {
        "id": "A31OYSogBED6"
      },
      "source": [
        "<b>Task 2:</b> Implement M-step for GMM using template below."
      ]
    },
    {
      "cell_type": "code",
      "metadata": {
        "id": "mhOr5I1bBED7"
      },
      "source": [
        "def M_step(X, gamma):\n",
        "    \"\"\"\n",
        "    Performs M-step on GMM model\n",
        "    Each input is numpy array:\n",
        "    X: (N x d), data points\n",
        "    gamma: (N x C), distribution q(T)  \n",
        "    \n",
        "    Returns:\n",
        "    pi: (C)\n",
        "    mu: (C x d)\n",
        "    sigma: (C x d x d)\n",
        "    \"\"\"\n",
        "    N = X.shape[0] # number of objects\n",
        "    C = gamma.shape[1] # number of clusters\n",
        "    d = X.shape[1] # dimension of each object\n",
        "\n",
        "    ### YOUR CODE HERE\n",
        "    mu=np.zeros((C,d))\n",
        "    mu_upper_all=np.dot(np.transpose(gamma),X) #C*d\n",
        "    for t in range(0,C):\n",
        "      mu_upper=mu_upper_all[t,:]\n",
        "      mu_lower=sum(gamma[:,t])\n",
        "      mu[t,:] = mu_upper/mu_lower\n",
        "    \n",
        "    sigma=np.zeros((C,d,d))\n",
        "    for t in range(0,C):\n",
        "      sigma_upper=np.zeros((d,d)) #this was missing in previous implementation, causing wrong output\n",
        "      for i in range(0,N):\n",
        "        temp_matrix=X[i,:]-mu[t,:]\n",
        "        sigma_upper += np.dot(temp_matrix.reshape([d,1]),temp_matrix.reshape([1,d]))*gamma[i,t] #d*d\n",
        "      sigma_lower = sum(gamma[:,t])\n",
        "      sigma[t,:,:]=sigma_upper/sigma_lower \n",
        "    \n",
        "    \"\"\"\n",
        "    #someone else's codes\n",
        "    for i in range(C):\n",
        "      numerator_sigma=[]\n",
        "      for j in range(N):\n",
        "        numerator_sigma.append(gamma[j,i]*np.outer(X[j]-mu[i],X[j]-mu[i]))\n",
        "      sigma[i]=(1/sum(gamma[:,i]))*sum(numerator_sigma)\n",
        "    \"\"\"\n",
        "\n",
        "    pi=np.zeros((C))\n",
        "    for t in range(0,C):\n",
        "      pi[t]=sum(gamma[:,t])/sum(sum(gamma))\n",
        "\n",
        "    return pi, mu, sigma"
      ],
      "execution_count": null,
      "outputs": []
    },
    {
      "cell_type": "code",
      "metadata": {
        "id": "6i5cv65SBED-",
        "outputId": "e25622fb-1b26-4160-8a9f-c10d635698c2",
        "colab": {
          "base_uri": "https://localhost:8080/",
          "height": 238
        }
      },
      "source": [
        "gamma = E_step(X, pi0, mu0, sigma0)\n",
        "pi, mu, sigma = M_step(X, gamma)\n",
        "print(pi,mu,sigma)\n",
        "grader.submit_m_step(pi, mu, sigma)"
      ],
      "execution_count": null,
      "outputs": [
        {
          "output_type": "stream",
          "text": [
            "[0.44702322 0.55076245 0.00221433] [[ 1.05852748  5.40759435]\n",
            " [ 2.16796132  2.89939188]\n",
            " [-1.33306197  1.41522785]] [[[ 0.70631457  1.00189734]\n",
            "  [ 1.00189734  3.09525744]]\n",
            "\n",
            " [[ 5.76353448  1.49049001]\n",
            "  [ 1.49049001  5.97710522]]\n",
            "\n",
            " [[ 0.0676037  -0.21186747]\n",
            "  [-0.21186747  3.29922798]]]\n",
            "Current answer for task Task 2 (M-step: mu) is: 2.8993918820503817\n",
            "Current answer for task Task 2 (M-step: sigma) is: 5.977105216897524\n",
            "Current answer for task Task 2 (M-step: pi) is: 0.5507624459218776\n"
          ],
          "name": "stdout"
        }
      ]
    },
    {
      "cell_type": "markdown",
      "metadata": {
        "id": "svyzjt7XBEEC"
      },
      "source": [
        "### Loss function"
      ]
    },
    {
      "cell_type": "markdown",
      "metadata": {
        "id": "qexOXBLUBEED"
      },
      "source": [
        "Finally, we need some function to track convergence. We will use variational lower bound $\\mathcal{L}$ for this purpose. We will stop our EM iterations when $\\mathcal{L}$ will saturate. Usually, you will need only about 10-20 iterations to converge. It is also useful to check that this function never decreases during training. If it does, you have a bug in your code.\n",
        "\n",
        "<b>Task 3:</b> Implement a function that will compute $\\mathcal{L}$ using template below.\n",
        "\n",
        "$$\\mathcal{L} = \\sum_{i=1}^{N} \\sum_{c=1}^{C} q(t_i =c) (\\log \\pi_c + \\log f_{\\!\\mathcal{N}}(x_i \\mid \\mu_c, \\Sigma_c)) - \\sum_{i=1}^{N} \\sum_{c=1}^{K} q(t_i =c) \\log q(t_i =c)$$"
      ]
    },
    {
      "cell_type": "code",
      "metadata": {
        "id": "B5tKCZe0BEEE"
      },
      "source": [
        "def compute_vlb(X, pi, mu, sigma, gamma):\n",
        "    \"\"\"\n",
        "    Each input is numpy array:\n",
        "    X: (N x d), data points\n",
        "    gamma: (N x C), distribution q(T)  \n",
        "    pi: (C)\n",
        "    mu: (C x d)\n",
        "    sigma: (C x d x d)\n",
        "    \n",
        "    Returns value of variational lower bound\n",
        "    \"\"\"\n",
        "    N = X.shape[0] # number of objects\n",
        "    C = gamma.shape[1] # number of clusters\n",
        "    d = X.shape[1] # dimension of each object\n",
        "\n",
        "    ### YOUR CODE HERE\n",
        "    \n",
        "    L_part1=0\n",
        "    L_part2=0\n",
        "    for i in range(0,N):\n",
        "      for t in range(0,C):\n",
        "        #L_part1+=gamma[i,t]*(np.log(pi[t])+np.log(pdf(x=X[i,:],sigma=sigma[t,:,:],mu=mu[t,:],d=d))) # my previous code, lead to Inf\n",
        "        L_part1+=gamma[i,t]*(np.log(pi[t])+multivariate_normal.logpdf(X[i,:],mean=mu[t],cov=sigma[t]))\n",
        "        L_part2+=gamma[i,t]*np.log(gamma[i,t])\n",
        "    loss=L_part1-L_part2\n",
        "\n",
        "    return loss\n",
        "    \"\"\"\n",
        "    loss=0\n",
        "    for i in range(N):\n",
        "      for c in range(C):\n",
        "        qt=gamma[i,c]\n",
        "        pic=pi[c]\n",
        "        xi=X[i,:]\n",
        "        lic=qt*(np.log(pic)+multivariate_normal.logpdf(xi, mean=mu[c], cov=sigma[c]))-qt*np.log(qt)\n",
        "        loss+=lic\n",
        "    return loss\n",
        "    \"\"\"\n"
      ],
      "execution_count": null,
      "outputs": []
    },
    {
      "cell_type": "code",
      "metadata": {
        "id": "xNva3XRTBEEI",
        "outputId": "ab5a9983-ff0f-4576-d66c-23bd24b6069a",
        "colab": {
          "base_uri": "https://localhost:8080/",
          "height": 34
        }
      },
      "source": [
        "pi, mu, sigma = pi0, mu0, sigma0\n",
        "gamma = E_step(X, pi, mu, sigma)\n",
        "pi, mu, sigma = M_step(X, gamma)\n",
        "loss = compute_vlb(X, pi, mu, sigma, gamma)\n",
        "grader.submit_VLB(loss)"
      ],
      "execution_count": null,
      "outputs": [
        {
          "output_type": "stream",
          "text": [
            "Current answer for task Task 3 (VLB) is: -1213.9734643060178\n"
          ],
          "name": "stdout"
        }
      ]
    },
    {
      "cell_type": "markdown",
      "metadata": {
        "id": "I5p8XC-eBEEM"
      },
      "source": [
        "### Bringing it all together"
      ]
    },
    {
      "cell_type": "markdown",
      "metadata": {
        "id": "cQsdsNVCBEEU"
      },
      "source": [
        "Now that we have E step, M step and VLB, we can implement the training loop. We will initialize values of $\\pi$, $\\mu$ and $\\Sigma$ to some random numbers, train until $\\mathcal{L}$ stops changing, and return the resulting points. We also know that the EM algorithm converges to local optima. To find a better local optima, we will restart the algorithm multiple times from different (random) starting positions. Each training trial should stop either when maximum number of iterations is reached or when relative improvement is smaller than given tolerance ($|\\frac{\\mathcal{L}_i-\\mathcal{L}_{i-1}}{\\mathcal{L}_{i-1}}| \\le \\text{rtol}$).\n",
        "\n",
        "Remember, that initial (random) values of $\\pi$ that you generate must be non-negative and sum up to 1. Also, $\\Sigma$ matrices must be symmetric and positive semi-definite. If you don't know how to generate those matrices, you can use $\\Sigma=I$ as initialization.\n",
        "\n",
        "You will also sometimes get numerical errors because of component collapsing. The easiest way to deal with this problems is to restart the procedure.\n",
        "\n",
        "<b>Task 4:</b> Implement training procedure"
      ]
    },
    {
      "cell_type": "code",
      "metadata": {
        "id": "Q1AAcyl0BEEW"
      },
      "source": [
        "def train_EM(X, C, rtol=1e-3, max_iter=100, restarts=10):#100,10\n",
        "    '''\n",
        "    Starts with random initialization *restarts* times\n",
        "    Runs optimization until saturation with *rtol* reached\n",
        "    or *max_iter* iterations were made.\n",
        "    \n",
        "    X: (N, d), data points\n",
        "    C: int, number of clusters\n",
        "    '''\n",
        "    N = X.shape[0] # number of objects\n",
        "    d = X.shape[1] # dimension of each object\n",
        "    best_loss = None\n",
        "    best_pi = None\n",
        "    best_mu = None\n",
        "    best_sigma = None\n",
        "\n",
        "    for _ in range(restarts):\n",
        "        try:\n",
        "            ### YOUR CODE HERE\n",
        "            #pi=pi0\n",
        "            #mu=mu0\n",
        "            #sigma=sigma0\n",
        "            \n",
        "            pi = np.random.rand(C)\n",
        "            pi = pi/sum(pi)\n",
        "            mu = np.random.randint(low=-2,high=2,size=(C,d)) #randint(low[, high, size])\n",
        "            sigma = sigma0\n",
        "            counter=0\n",
        "            loss_past=-1000\n",
        "            #print(mu)\n",
        "            \n",
        "            while counter<max_iter:\n",
        "              counter = counter+1\n",
        "              gamma = E_step(X, pi, mu, sigma)\n",
        "              pi, mu, sigma = M_step(X, gamma)\n",
        "              loss_current = compute_vlb(X, pi, mu, sigma, gamma)\n",
        "              print(loss_current)\n",
        "\n",
        "              if abs((loss_current-loss_past)/loss_past)>rtol:\n",
        "                loss_past=loss_current\n",
        "              else:\n",
        "                best_loss=loss_current\n",
        "                best_pi=pi\n",
        "                best_mu=mu\n",
        "                best_sigma=sigma\n",
        "                break\n",
        "            \n",
        "\n",
        "        except np.linalg.LinAlgError:\n",
        "            print(\"Singular matrix: components collapsed\")\n",
        "            pass\n",
        "\n",
        "    return best_loss, best_pi, best_mu, best_sigma"
      ],
      "execution_count": null,
      "outputs": []
    },
    {
      "cell_type": "code",
      "metadata": {
        "id": "0f8A5sbmBEEZ",
        "outputId": "85cd61b2-b4c6-4691-bab2-1bc3f5b48011",
        "colab": {
          "base_uri": "https://localhost:8080/",
          "height": 1000
        }
      },
      "source": [
        "best_loss, best_pi, best_mu, best_sigma = train_EM(X, 3)\n",
        "grader.submit_EM(best_loss)\n",
        "print(best_pi,best_mu,best_sigma)"
      ],
      "execution_count": null,
      "outputs": [
        {
          "output_type": "stream",
          "text": [
            "-1253.6384386023728\n",
            "-1192.3983399531112\n",
            "-1164.7393471955684\n",
            "-1144.1565067216425\n",
            "-1130.353971289534\n",
            "-1121.8755468143083\n",
            "-1116.308941846705\n",
            "-1111.8187200823534\n",
            "-1107.5556483093658\n",
            "-1103.0862706893179\n",
            "-1098.5222506113926\n",
            "-1094.156094467024\n",
            "-1090.2404416031088\n",
            "-1087.1172780814516\n",
            "-1084.69065279644\n",
            "-1082.4702443219478\n",
            "-1079.9609739955706\n",
            "-1076.5208154670547\n",
            "-1071.354177288862\n",
            "-1066.7183489178603\n",
            "-1065.1108527944918\n",
            "-1064.4444052714284\n",
            "-1271.0297902380223\n",
            "-1218.8812985703382\n",
            "-1198.607351160314\n",
            "-1177.7832198748858\n",
            "-1154.1049215759156\n",
            "-1136.036615290303\n",
            "-1126.746828905688\n",
            "-1120.9587878205896\n",
            "-1116.069769448209\n",
            "-1111.3402765692788\n",
            "-1106.607468634865\n",
            "-1102.0095273171796\n",
            "-1097.7467388346258\n",
            "-1093.7837165679218\n",
            "-1090.1220958422634\n",
            "-1087.0984094180126\n",
            "-1084.7864106456684\n",
            "-1082.6785921076112\n",
            "-1080.1716105793596\n",
            "-1076.5122378834103\n",
            "-1070.6426551915777\n",
            "-1065.829834278879\n",
            "-1064.6216860289978\n",
            "-1064.1562520450352\n",
            "-1255.1560718275541\n",
            "-1223.9423820941845\n",
            "-1211.7385731832135\n",
            "nan\n"
          ],
          "name": "stdout"
        },
        {
          "output_type": "stream",
          "text": [
            "/usr/local/lib/python3.6/dist-packages/ipykernel_launcher.py:34: RuntimeWarning: divide by zero encountered in log\n",
            "/usr/local/lib/python3.6/dist-packages/ipykernel_launcher.py:34: RuntimeWarning: invalid value encountered in double_scalars\n"
          ],
          "name": "stderr"
        },
        {
          "output_type": "stream",
          "text": [
            "-1280.161367819413\n",
            "nan\n",
            "-1275.3996937375593\n",
            "-1225.6124658535723\n",
            "-1207.0853462852078\n",
            "-1193.6778061196803\n",
            "nan\n",
            "-1203.9083713596817\n",
            "nan\n",
            "-1217.152415887557\n",
            "-1186.675244384625\n",
            "-1168.699233535412\n",
            "-1159.043842316626\n",
            "-1153.261746161309\n",
            "-1148.3210788566673\n",
            "-1143.3687367617629\n",
            "-1138.2706260619696\n",
            "-1133.0385857342476\n",
            "-1127.833682547826\n",
            "-1122.8478891331488\n",
            "-1118.1490763343013\n",
            "-1113.8512251619677\n",
            "-1109.9883213087614\n",
            "-1106.1790713880857\n",
            "-1101.6863575565378\n",
            "-1095.8810246256535\n",
            "-1088.6866650132035\n",
            "-1081.8109186447778\n",
            "-1076.3347787916625\n",
            "-1072.3925845658528\n",
            "-1069.716417244395\n",
            "-1067.7437563268838\n",
            "-1066.4911339732803\n",
            "-1065.5863131226697\n",
            "-1206.8107127244582\n",
            "-1180.0002434487897\n",
            "-1173.6772704878438\n",
            "-1169.6188744933083\n",
            "-1165.6588750606575\n",
            "-1160.8083218341505\n",
            "-1154.4790025268514\n",
            "-1146.5510655510489\n",
            "-1137.6960453515323\n",
            "-1130.8436202605176\n",
            "-1125.584308280829\n",
            "-1120.8599935702193\n",
            "-1116.1651752900466\n",
            "-1111.0691149050342\n",
            "-1105.0856030784605\n",
            "-1098.4929600428368\n",
            "-1093.073491836806\n",
            "-1089.3100748372985\n",
            "-1086.4499760696576\n",
            "-1084.0060753999282\n",
            "-1081.7066322961252\n",
            "-1079.3911352853042\n",
            "-1076.950338059071\n",
            "-1074.3214199958134\n",
            "-1071.562100827362\n",
            "-1068.9592458230877\n",
            "-1066.9018787840066\n",
            "-1065.533512383536\n",
            "-1064.727921622956\n",
            "-1240.6901010132349\n",
            "-1178.6886675423261\n",
            "-1160.2714618514722\n",
            "-1148.6191864038285\n",
            "-1139.2239514077705\n",
            "-1130.1956304911405\n",
            "-1121.9259341657698\n",
            "-1114.8450117753835\n",
            "-1108.8674492406874\n",
            "-1103.990933644438\n",
            "-1100.3248222303173\n",
            "-1097.70158433644\n",
            "-1095.598183029645\n",
            "-1093.4974229962793\n",
            "-1090.9482908807868\n",
            "-1087.4540117720348\n",
            "-1083.0239852300363\n",
            "-1077.9922050736886\n",
            "-1070.4294484050815\n",
            "-1064.5680816899483\n",
            "-1063.9872957858117\n",
            "-1192.4413649804928\n",
            "-1157.5552771029272\n",
            "-1144.4346886980782\n",
            "-1136.5965417350048\n",
            "-1131.8620955345314\n",
            "-1128.7900178506543\n",
            "-1126.2706563788336\n",
            "-1123.5685664578564\n",
            "-1120.3291567547778\n",
            "-1116.4126221628692\n",
            "-1111.87902614487\n",
            "-1107.0819759440162\n",
            "-1102.448810624962\n",
            "-1097.823250667171\n",
            "-1092.3832897946584\n",
            "-1085.3866936821487\n",
            "-1077.9874609093224\n",
            "-1072.524960482602\n",
            "-1069.5059857363601\n",
            "-1067.733675010203\n",
            "-1066.593230612689\n",
            "-1065.7031633380846\n",
            "Current answer for task Task 4 (EM) is: -1065.7031633380846\n",
            "[0.55284461 0.11915373 0.32800166] [[1.22557802 5.820621  ]\n",
            " [5.8962009  4.11554933]\n",
            " [0.86633003 0.9422154 ]] [[[ 0.93740231  0.06240214]\n",
            "  [ 0.06240214  1.12787158]]\n",
            "\n",
            " [[ 3.04701064  2.44487295]\n",
            "  [ 2.44487295  2.14810643]]\n",
            "\n",
            " [[ 1.47372915 -0.43853126]\n",
            "  [-0.43853126  1.433427  ]]]\n"
          ],
          "name": "stdout"
        }
      ]
    },
    {
      "cell_type": "markdown",
      "metadata": {
        "id": "tYd6tPHKBEEd"
      },
      "source": [
        "If you implemented all the steps correctly, your algorithm should converge in about 20 iterations. Let's plot the clusters to see it. We will assign a cluster label as the most probable cluster index. This can be found using a matrix $\\gamma$ computed on last E-step. "
      ]
    },
    {
      "cell_type": "code",
      "metadata": {
        "id": "mK_M6QLnBEEe",
        "outputId": "4b970f59-867f-42bd-99a7-13a70be25ef4",
        "colab": {
          "base_uri": "https://localhost:8080/",
          "height": 265
        }
      },
      "source": [
        "gamma = E_step(X, best_pi, best_mu, best_sigma)\n",
        "labels = gamma.argmax(axis=1)\n",
        "colors = np.array([(31, 119, 180), (255, 127, 14), (44, 160, 44)]) / 255.\n",
        "plt.scatter(X[:, 0], X[:, 1], c=colors[labels], s=30)\n",
        "plt.axis('equal')\n",
        "plt.show()"
      ],
      "execution_count": null,
      "outputs": [
        {
          "output_type": "display_data",
          "data": {
            "image/png": "[encoded data removed]",
            "text/plain": [
              "<Figure size 432x288 with 1 Axes>"
            ]
          },
          "metadata": {
            "tags": [],
            "needs_background": "light"
          }
        }
      ]
    },
    {
      "cell_type": "markdown",
      "metadata": {
        "id": "h4lnjrc7BEEl"
      },
      "source": [
        "# Authorization & Submission\n",
        "To submit assignment parts to Cousera platform, please, enter your e-mail and token into variables below. You can generate a token on this programming assignment's page. <b>Note:</b> The token expires 30 minutes after generation."
      ]
    },
    {
      "cell_type": "code",
      "metadata": {
        "id": "5uQRl29_BEEl",
        "outputId": "3b8ae8bb-1e5f-4bda-c1de-0dec0d51f137",
        "colab": {
          "base_uri": "https://localhost:8080/",
          "height": 143
        }
      },
      "source": [
        "STUDENT_EMAIL = \"\"# EMAIL HERE\n",
        "STUDENT_TOKEN = \"\"# TOKEN HERE\n",
        "grader.status()"
      ],
      "execution_count": null,
      "outputs": [
        {
          "output_type": "stream",
          "text": [
            "You want to submit these numbers:\n",
            "Task Task 1 (E-step): 0.5337178741081263\n",
            "Task Task 2 (M-step: mu): 2.8993918820503817\n",
            "Task Task 2 (M-step: sigma): 5.977105216897524\n",
            "Task Task 2 (M-step: pi): 0.5507624459218776\n",
            "Task Task 3 (VLB): -1213.9734643060187\n",
            "Task Task 4 (EM): -1065.7031633380846\n"
          ],
          "name": "stdout"
        }
      ]
    },
    {
      "cell_type": "markdown",
      "metadata": {
        "id": "sNCsqNOiBEEn"
      },
      "source": [
        "If you want to submit these answers, run cell below"
      ]
    },
    {
      "cell_type": "code",
      "metadata": {
        "id": "3sc9imWNBEEo",
        "outputId": "22996cce-58d2-459a-a2bf-2b28208fb1fc",
        "colab": {
          "base_uri": "https://localhost:8080/",
          "height": 35
        }
      },
      "source": [
        "grader.submit(STUDENT_EMAIL, STUDENT_TOKEN)"
      ],
      "execution_count": null,
      "outputs": [
        {
          "output_type": "stream",
          "text": [
            "Submitted to Coursera platform. See results on assignment page!\n"
          ],
          "name": "stdout"
        }
      ]
    }
  ]
}