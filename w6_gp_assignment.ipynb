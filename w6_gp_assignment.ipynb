{
  "nbformat": 4,
  "nbformat_minor": 0,
  "metadata": {
    "kernelspec": {
      "display_name": "Python 3",
      "language": "python",
      "name": "python3"
    },
    "language_info": {
      "codemirror_mode": {
        "name": "ipython",
        "version": 3
      },
      "file_extension": ".py",
      "mimetype": "text/x-python",
      "name": "python",
      "nbconvert_exporter": "python",
      "pygments_lexer": "ipython3",
      "version": "3.6.7"
    },
    "latex_envs": {
      "bibliofile": "biblio.bib",
      "cite_by": "apalike",
      "current_citInitial": 1,
      "eqLabelWithNumbers": true,
      "eqNumInitial": 0
    },
    "colab": {
      "name": "gp_assignment_jmz.ipynb",
      "provenance": []
    }
  },
  "cells": [
    {
      "cell_type": "markdown",
      "metadata": {
        "id": "I5rYNv6Jtt-c"
      },
      "source": [
        "# First things first\n",
        "Click **File -> Save a copy in Drive** and click **Open in new tab** in the pop-up window to save your progress in Google Drive."
      ]
    },
    {
      "cell_type": "markdown",
      "metadata": {
        "id": "9MPpPg3utt-d"
      },
      "source": [
        "# Gaussian processes and Bayesian optimization"
      ]
    },
    {
      "cell_type": "markdown",
      "metadata": {
        "id": "touuInWntt-d"
      },
      "source": [
        "In this assignment you will learn how to use <a href=\"http://sheffieldml.github.io/GPy/\">GPy</a> and <a href=\"http://sheffieldml.github.io/GPyOpt/\">GPyOpt</a> libraries to deal with gaussian processes. These libraries provide quite simple and inuitive interfaces for training and inference, and we will try to get familiar with them in a few tasks."
      ]
    },
    {
      "cell_type": "markdown",
      "metadata": {
        "id": "FoOQC0yatt-e"
      },
      "source": [
        "### Setup\n",
        "Load auxiliary files and then install and import the necessary libraries."
      ]
    },
    {
      "cell_type": "code",
      "metadata": {
        "id": "lSH7Q0JItt-f",
        "outputId": "1b7aed7e-37a1-4549-85b9-118b047e9260",
        "colab": {
          "base_uri": "https://localhost:8080/",
          "height": 238
        }
      },
      "source": [
        "try:\n",
        "    import google.colab\n",
        "    IN_COLAB = True\n",
        "except:\n",
        "    IN_COLAB = False\n",
        "if IN_COLAB:\n",
        "    print(\"Downloading Colab files\")\n",
        "    ! shred -u setup_google_colab.py\n",
        "    ! wget https://raw.githubusercontent.com/hse-aml/bayesian-methods-for-ml/master/setup_google_colab.py -O setup_google_colab.py\n",
        "    import setup_google_colab\n",
        "    setup_google_colab.load_data_week6()"
      ],
      "execution_count": 2,
      "outputs": [
        {
          "output_type": "stream",
          "text": [
            "Downloading Colab files\n",
            "--2020-10-13 05:59:46--  https://raw.githubusercontent.com/hse-aml/bayesian-methods-for-ml/master/setup_google_colab.py\n",
            "Resolving raw.githubusercontent.com (raw.githubusercontent.com)... 151.101.0.133, 151.101.64.133, 151.101.128.133, ...\n",
            "Connecting to raw.githubusercontent.com (raw.githubusercontent.com)|151.101.0.133|:443... connected.\n",
            "HTTP request sent, awaiting response... 200 OK\n",
            "Length: 1232 (1.2K) [text/plain]\n",
            "Saving to: ‘setup_google_colab.py’\n",
            "\n",
            "setup_google_colab. 100%[===================>]   1.20K  --.-KB/s    in 0s      \n",
            "\n",
            "2020-10-13 05:59:46 (68.1 MB/s) - ‘setup_google_colab.py’ saved [1232/1232]\n",
            "\n",
            "https://raw.githubusercontent.com/hse-aml/bayesian-methods-for-ml/master/week6/w6_grader.py w6_grader.py\n"
          ],
          "name": "stdout"
        }
      ]
    },
    {
      "cell_type": "code",
      "metadata": {
        "id": "vbuInPqNtt-j",
        "outputId": "a8e762ca-e925-448c-f427-1f9de627bf03",
        "colab": {
          "base_uri": "https://localhost:8080/",
          "height": 153
        }
      },
      "source": [
        "! pip install GPy gpyopt xgboost"
      ],
      "execution_count": 3,
      "outputs": [
        {
          "output_type": "stream",
          "text": [
            "Requirement already satisfied: GPy in /usr/local/lib/python3.6/dist-packages (1.9.9)\n",
            "Requirement already satisfied: gpyopt in /usr/local/lib/python3.6/dist-packages (1.2.6)\n",
            "Requirement already satisfied: xgboost in /usr/local/lib/python3.6/dist-packages (0.90)\n",
            "Requirement already satisfied: six in /usr/local/lib/python3.6/dist-packages (from GPy) (1.15.0)\n",
            "Requirement already satisfied: paramz>=0.9.0 in /usr/local/lib/python3.6/dist-packages (from GPy) (0.9.5)\n",
            "Requirement already satisfied: numpy>=1.7 in /usr/local/lib/python3.6/dist-packages (from GPy) (1.18.5)\n",
            "Requirement already satisfied: scipy>=0.16 in /usr/local/lib/python3.6/dist-packages (from GPy) (1.4.1)\n",
            "Requirement already satisfied: decorator>=4.0.10 in /usr/local/lib/python3.6/dist-packages (from paramz>=0.9.0->GPy) (4.4.2)\n"
          ],
          "name": "stdout"
        }
      ]
    },
    {
      "cell_type": "code",
      "metadata": {
        "id": "7Z_No3z2tt-l"
      },
      "source": [
        "import numpy as np\n",
        "import GPy\n",
        "import GPyOpt\n",
        "import matplotlib.pyplot as plt\n",
        "from sklearn.svm import SVR\n",
        "import sklearn.datasets\n",
        "from xgboost import XGBRegressor\n",
        "from sklearn.model_selection import cross_val_score\n",
        "import time\n",
        "from w6_grader import GPGrader\n",
        "%matplotlib inline"
      ],
      "execution_count": 4,
      "outputs": []
    },
    {
      "cell_type": "markdown",
      "metadata": {
        "id": "zubufMKVtt-p"
      },
      "source": [
        "### Grading\n",
        "We will create a grader instace below and use it to collect your answers. Note that these outputs will be stored locally inside grader and will be uploaded to platform only after running submiting function in the last part of this assignment. If you want to make partial submission, you can run that cell any time you want."
      ]
    },
    {
      "cell_type": "code",
      "metadata": {
        "id": "uWhHuUv0tt-p"
      },
      "source": [
        "grader = GPGrader()"
      ],
      "execution_count": 5,
      "outputs": []
    },
    {
      "cell_type": "markdown",
      "metadata": {
        "id": "RXq6MEEAtt-s"
      },
      "source": [
        "## Gaussian processes: GPy (<a href=\"http://pythonhosted.org/GPy/\">documentation</a>)"
      ]
    },
    {
      "cell_type": "markdown",
      "metadata": {
        "collapsed": true,
        "id": "cAArWzTqtt-s"
      },
      "source": [
        "We will start with a simple regression problem, for which we will try to fit a Gaussian Process with RBF kernel."
      ]
    },
    {
      "cell_type": "code",
      "metadata": {
        "id": "XNH8UI2Ltt-t"
      },
      "source": [
        "def generate_points(n=25, noise_variance=0.0036):\n",
        "    np.random.seed(777)\n",
        "    X = np.random.uniform(-3., 3., (n, 1))\n",
        "    y = np.sin(X) + np.random.randn(n, 1) * noise_variance**0.5\n",
        "    return X, y\n",
        "    \n",
        "def generate_noise(n=25, noise_variance=0.0036):\n",
        "    np.random.seed(777)\n",
        "    X = np.random.uniform(-3., 3., (n, 1))\n",
        "    y = np.random.randn(n, 1) * noise_variance**0.5\n",
        "    return X, y"
      ],
      "execution_count": 6,
      "outputs": []
    },
    {
      "cell_type": "code",
      "metadata": {
        "id": "ovyTd8phtt-v",
        "outputId": "0bc3275c-9c44-49b7-a02e-c9cc80c3a8eb",
        "colab": {
          "base_uri": "https://localhost:8080/",
          "height": 282
        }
      },
      "source": [
        "# Create data points\n",
        "X, y = generate_points()\n",
        "plt.plot(X, y, '.')\n",
        "plt.show()\n",
        "X[5]"
      ],
      "execution_count": 7,
      "outputs": [
        {
          "output_type": "display_data",
          "data": {
            "image/png": "[encoded data removed]",
            "text/plain": [
              "<Figure size 432x288 with 1 Axes>"
            ]
          },
          "metadata": {
            "tags": [],
            "needs_background": "light"
          }
        },
        {
          "output_type": "execute_result",
          "data": {
            "text/plain": [
              "array([2.56198229])"
            ]
          },
          "metadata": {
            "tags": []
          },
          "execution_count": 7
        }
      ]
    },
    {
      "cell_type": "markdown",
      "metadata": {
        "id": "J1n16M5Ntt-y"
      },
      "source": [
        "To fit a Gaussian Process, you will need to define a kernel. For Gaussian (GBF) kernel you can use `GPy.kern.RBF` function."
      ]
    },
    {
      "cell_type": "markdown",
      "metadata": {
        "id": "WUA_TBcBtt-z"
      },
      "source": [
        "<b> Task 1.1: </b> Create RBF kernel with variance 1.5 and length-scale parameter 2 for 1D samples and compute value of the kernel between points `X[5]` and `X[9]`. Submit a single number. \n",
        "<br><b>Hint:</b> use `.K` property of kernel object."
      ]
    },
    {
      "cell_type": "code",
      "metadata": {
        "id": "v5agU_jatt-z",
        "outputId": "04d1690b-f339-424b-83a7-04c2f505b9cf",
        "colab": {
          "base_uri": "https://localhost:8080/",
          "height": 34
        }
      },
      "source": [
        "kernel = GPy.kern.RBF(input_dim=1,variance=1.5,lengthscale=2) ### YOUR CODE HERE\n",
        "kernel_59 = kernel.K(X,X)[5,9]### YOUR CODE HERE\n",
        "grader.submit_GPy_1(kernel_59)"
      ],
      "execution_count": 8,
      "outputs": [
        {
          "output_type": "stream",
          "text": [
            "Current answer for task 1.1 is: 1.0461813545396959\n"
          ],
          "name": "stdout"
        }
      ]
    },
    {
      "cell_type": "markdown",
      "metadata": {
        "id": "-PC469-Vtt-2"
      },
      "source": [
        "<b> Task 1.2: </b> Fit GP into generated data. Use kernel from previous task. Submit predicted mean and vairance at position $x=1$.\n",
        "<br><b>Hint:</b> use `GPy.models.GPRegression` class."
      ]
    },
    {
      "cell_type": "code",
      "metadata": {
        "id": "auZwfCpytt-2",
        "outputId": "e78c3f28-bff1-4898-ca29-f86414c16a2f",
        "colab": {
          "base_uri": "https://localhost:8080/",
          "height": 51
        }
      },
      "source": [
        "model = GPy.models.GPRegression(X,y,kernel)### YOUR CODE HERE\n",
        "x=np.array([[1]])\n",
        "mean,variance = model.predict(x)\n",
        "#mean = ### YOUR CODE HERE\n",
        "#variance = model.rbf.variance[0]### YOUR CODE HERE\n",
        "grader.submit_GPy_2(mean, variance)"
      ],
      "execution_count": 9,
      "outputs": [
        {
          "output_type": "stream",
          "text": [
            "Current answer for task 1.2 (mean) is: 0.6646774926102937\n",
            "Current answer for task 1.2 (variance) is: 1.1001478223790582\n"
          ],
          "name": "stdout"
        }
      ]
    },
    {
      "cell_type": "code",
      "metadata": {
        "id": "hwy_u8Zptt-4",
        "outputId": "b5c0d718-9cc5-4ed4-f8ea-037da2b6dcb6",
        "colab": {
          "base_uri": "https://localhost:8080/",
          "height": 297
        }
      },
      "source": [
        "model.plot()\n",
        "plt.show()"
      ],
      "execution_count": 10,
      "outputs": [
        {
          "output_type": "display_data",
          "data": {
            "image/png": "[encoded data removed]",
            "text/plain": [
              "<Figure size 432x288 with 1 Axes>"
            ]
          },
          "metadata": {
            "tags": [],
            "needs_background": "light"
          }
        }
      ]
    },
    {
      "cell_type": "markdown",
      "metadata": {
        "id": "w085AJSAtt-7"
      },
      "source": [
        "We see that the model didn't fit the data quite well. Let's try to fit kernel and noise parameters automatically as discussed in the lecture! You can see the current parameters below:"
      ]
    },
    {
      "cell_type": "code",
      "metadata": {
        "id": "Z0C0rGRNtt-7",
        "outputId": "e81b6f20-8f68-43ce-98ed-579556606ace",
        "colab": {
          "base_uri": "https://localhost:8080/",
          "height": 221
        }
      },
      "source": [
        "model"
      ],
      "execution_count": 11,
      "outputs": [
        {
          "output_type": "execute_result",
          "data": {
            "text/html": [
              "<style type=\"text/css\">\n",
              ".pd{\n",
              "    font-family: \"Courier New\", Courier, monospace !important;\n",
              "    width: 100%;\n",
              "    padding: 3px;\n",
              "}\n",
              "</style>\n",
              "\n",
              "<p class=pd>\n",
              "<b>Model</b>: GP regression<br>\n",
              "<b>Objective</b>: 27.86687636693494<br>\n",
              "<b>Number of Parameters</b>: 3<br>\n",
              "<b>Number of Optimization Parameters</b>: 3<br>\n",
              "<b>Updates</b>: True<br>\n",
              "</p>\n",
              "<style type=\"text/css\">\n",
              ".tg  {font-family:\"Courier New\", Courier, monospace !important;padding:2px 3px;word-break:normal;border-collapse:collapse;border-spacing:0;border-color:#DCDCDC;margin:0px auto;width:100%;}\n",
              ".tg td{font-family:\"Courier New\", Courier, monospace !important;font-weight:bold;color:#444;background-color:#F7FDFA;border-style:solid;border-width:1px;overflow:hidden;word-break:normal;border-color:#DCDCDC;}\n",
              ".tg th{font-family:\"Courier New\", Courier, monospace !important;font-weight:normal;color:#fff;background-color:#26ADE4;border-style:solid;border-width:1px;overflow:hidden;word-break:normal;border-color:#DCDCDC;}\n",
              ".tg .tg-left{font-family:\"Courier New\", Courier, monospace !important;font-weight:normal;text-align:left;}\n",
              ".tg .tg-center{font-family:\"Courier New\", Courier, monospace !important;font-weight:normal;text-align:center;}\n",
              ".tg .tg-right{font-family:\"Courier New\", Courier, monospace !important;font-weight:normal;text-align:right;}\n",
              "</style>\n",
              "<table class=\"tg\"><tr><th><b>  GP_regression.         </b></th><th><b>value</b></th><th><b>constraints</b></th><th><b>priors</b></th></tr>\n",
              "<tr><td class=tg-left>  rbf.variance           </td><td class=tg-right>  1.5</td><td class=tg-center>    +ve    </td><td class=tg-center>      </td></tr>\n",
              "<tr><td class=tg-left>  rbf.lengthscale        </td><td class=tg-right>  2.0</td><td class=tg-center>    +ve    </td><td class=tg-center>      </td></tr>\n",
              "<tr><td class=tg-left>  Gaussian_noise.variance</td><td class=tg-right>  1.0</td><td class=tg-center>    +ve    </td><td class=tg-center>      </td></tr>\n",
              "</table>"
            ],
            "text/plain": [
              "<GPy.models.gp_regression.GPRegression at 0x7f9513752518>"
            ]
          },
          "metadata": {
            "tags": []
          },
          "execution_count": 11
        }
      ]
    },
    {
      "cell_type": "markdown",
      "metadata": {
        "id": "X1OgD_t-tt--"
      },
      "source": [
        "<b> Task 1.3: </b> Optimize length-scale, variance and noise component of the model and submit optimal length-scale value of the kernel. \n",
        "<br><b>Hint:</b> Use `.optimize()` function of the model and `.lengthscale` property of the kernel."
      ]
    },
    {
      "cell_type": "code",
      "metadata": {
        "id": "o9zx3zUUtt--",
        "outputId": "21eb83ba-db8c-4eb0-a3e0-1304f3eeeb0b",
        "colab": {
          "base_uri": "https://localhost:8080/",
          "height": 34
        }
      },
      "source": [
        "model.optimize()### YOUR CODE HERE\n",
        "lengthscale=kernel.lengthscale\n",
        "grader.submit_GPy_3(lengthscale)"
      ],
      "execution_count": 12,
      "outputs": [
        {
          "output_type": "stream",
          "text": [
            "Current answer for task 1.3 is: 1.6252681650349912\n"
          ],
          "name": "stdout"
        }
      ]
    },
    {
      "cell_type": "code",
      "metadata": {
        "id": "4o4CAlwott_B",
        "outputId": "8f2b47f2-38e5-4e12-fff1-0818aadd0e67",
        "colab": {
          "base_uri": "https://localhost:8080/",
          "height": 297
        }
      },
      "source": [
        "model.plot()\n",
        "plt.show()"
      ],
      "execution_count": 13,
      "outputs": [
        {
          "output_type": "display_data",
          "data": {
            "image/png": "[encoded data removed]",
            "text/plain": [
              "<Figure size 432x288 with 1 Axes>"
            ]
          },
          "metadata": {
            "tags": [],
            "needs_background": "light"
          }
        }
      ]
    },
    {
      "cell_type": "markdown",
      "metadata": {
        "id": "1qWQAW7Ytt_E"
      },
      "source": [
        "As you see, the process generates outputs just right. Let's see if GP can figure out itself when we try to fit it into noise or signal."
      ]
    },
    {
      "cell_type": "markdown",
      "metadata": {
        "id": "RiM3hlGxtt_F"
      },
      "source": [
        "<b> Task 1.4: </b> Generate two datasets: sinusoid wihout noise and samples from gaussian noise. Optimize kernel parameters and submit optimal values of noise component.\n",
        "<br><b>Note:</b> generate data only using ```generate_points(n, noise_variance)``` and ```generate_noise(n, noise_variance)``` function!"
      ]
    },
    {
      "cell_type": "code",
      "metadata": {
        "id": "8_9WQ4Qbtt_G"
      },
      "source": [
        "X, y = generate_noise(noise_variance=10)\n",
        "### YOUR CODE HERE\n",
        "model_1 = GPy.models.GPRegression(X,y,kernel)\n",
        "model_1.optimize()\n",
        "noise=model_1.Gaussian_noise.variance"
      ],
      "execution_count": 14,
      "outputs": []
    },
    {
      "cell_type": "code",
      "metadata": {
        "id": "GY7LkqUdtt_I"
      },
      "source": [
        "X, y = generate_points(noise_variance=0)\n",
        "### YOUR CODE HERE\n",
        "model_2 = GPy.models.GPRegression(X,y,kernel)\n",
        "model_2.optimize()\n",
        "just_signal=model_2.Gaussian_noise.variance"
      ],
      "execution_count": 15,
      "outputs": []
    },
    {
      "cell_type": "code",
      "metadata": {
        "id": "0U2RYrEytt_K",
        "outputId": "1d834def-e325-4fd7-9f20-2812206165e3",
        "colab": {
          "base_uri": "https://localhost:8080/",
          "height": 51
        }
      },
      "source": [
        "grader.submit_GPy_4(noise, just_signal)"
      ],
      "execution_count": 16,
      "outputs": [
        {
          "output_type": "stream",
          "text": [
            "Current answer for task 1.4 (noise) is: 10.143329676224383\n",
            "Current answer for task 1.4 (just signal) is: 1.4982810919653512e-14\n"
          ],
          "name": "stdout"
        }
      ]
    },
    {
      "cell_type": "markdown",
      "metadata": {
        "id": "MLOMq8-ptt_N"
      },
      "source": [
        "## Sparse GP\n",
        "Now let's consider the speed of GP. We will generate a dataset of 3000 points and measure the time that is consumed for prediction of mean and variance for each point. We will then try to use inducing inputs and find the optimal number of points according to quality-time tradeoff.\n",
        "\n",
        "For the sparse model with inducing points, you should use ```GPy.models.SparseGPRegression``` class. You can set the number of inducing inputs with parameter ```num_inducing``` and optimize their positions and values with ```.optimize()``` call."
      ]
    },
    {
      "cell_type": "markdown",
      "metadata": {
        "id": "kSrXtiistt_N"
      },
      "source": [
        "<b>Task 1.5</b>: Create a dataset of 1000 points and fit GPRegression. Measure time for predicting mean and variance at position $x=1$. Then fit `SparseGPRegression` with 10 inducing inputs and repeat the experiment. Report speedup as a ratio between consumed time without and with inducing inputs."
      ]
    },
    {
      "cell_type": "code",
      "metadata": {
        "id": "sPT22vaitt_O"
      },
      "source": [
        "X, y = generate_points(1000)"
      ],
      "execution_count": 17,
      "outputs": []
    },
    {
      "cell_type": "code",
      "metadata": {
        "id": "jGnROdPStt_Q"
      },
      "source": [
        "start = time.time()\n",
        "### YOUR CODE HERE\n",
        "model = GPy.models.GPRegression(X,y,kernel)### YOUR CODE HERE\n",
        "x=np.array([[1]])\n",
        "mean,variance = model.predict(x)\n",
        "time_gp = time.time()-start"
      ],
      "execution_count": 18,
      "outputs": []
    },
    {
      "cell_type": "code",
      "metadata": {
        "id": "8JNN9mnJY4_e"
      },
      "source": [
        ""
      ],
      "execution_count": 18,
      "outputs": []
    },
    {
      "cell_type": "code",
      "metadata": {
        "id": "vDdSP_IXtt_S"
      },
      "source": [
        "start = time.time()\n",
        "### YOUR CODE HERE\n",
        "model = GPy.models.SparseGPRegression(X,y,kernel)### YOUR CODE HERE\n",
        "x=np.array([[1]])\n",
        "mean,variance = model.predict(x)\n",
        "time_sgp = time.time()-start"
      ],
      "execution_count": 19,
      "outputs": []
    },
    {
      "cell_type": "code",
      "metadata": {
        "id": "ZMPJXEiwtt_U",
        "outputId": "925a3ec6-df0b-433e-dad3-4e06be6a6466",
        "colab": {
          "base_uri": "https://localhost:8080/",
          "height": 297
        }
      },
      "source": [
        "model.plot()\n",
        "plt.show()"
      ],
      "execution_count": 20,
      "outputs": [
        {
          "output_type": "display_data",
          "data": {
            "image/png": "[encoded data removed]",
            "text/plain": [
              "<Figure size 432x288 with 1 Axes>"
            ]
          },
          "metadata": {
            "tags": [],
            "needs_background": "light"
          }
        }
      ]
    },
    {
      "cell_type": "code",
      "metadata": {
        "id": "1sMa_BjDtt_W",
        "outputId": "1b1306d3-a55a-459f-e475-98fc1052fdc5",
        "colab": {
          "base_uri": "https://localhost:8080/",
          "height": 34
        }
      },
      "source": [
        "grader.submit_GPy_5(time_gp / time_sgp)"
      ],
      "execution_count": 21,
      "outputs": [
        {
          "output_type": "stream",
          "text": [
            "Current answer for task 1.5 is: 5.549994529218183\n"
          ],
          "name": "stdout"
        }
      ]
    },
    {
      "cell_type": "markdown",
      "metadata": {
        "id": "DExJ9DWZtt_Y"
      },
      "source": [
        "## Bayesian optimization: GPyOpt (<a href=\"http://pythonhosted.org/GPyOpt/\">documentation</a>, <a href=\"http://nbviewer.jupyter.org/github/SheffieldML/GPyOpt/blob/master/manual/index.ipynb\">tutorials</a>)"
      ]
    },
    {
      "cell_type": "markdown",
      "metadata": {
        "id": "euy_8quTtt_Z"
      },
      "source": [
        "In this part of the assignment, we will try to find optimal hyperparameters to XGBoost model! We will use data from a small competition to speed things up, but keep in mind that the approach works even for large datasets.\n",
        "\n",
        "We will use diabetes dataset provided in sklearn package."
      ]
    },
    {
      "cell_type": "code",
      "metadata": {
        "id": "BDAOd30jtt_Z"
      },
      "source": [
        "dataset = sklearn.datasets.load_diabetes()\n",
        "X = dataset['data']\n",
        "y = dataset['target']"
      ],
      "execution_count": 22,
      "outputs": []
    },
    {
      "cell_type": "markdown",
      "metadata": {
        "id": "8gL1LNe4tt_b"
      },
      "source": [
        "We will use cross-validation score to estimate accuracy and our goal will be to tune: ```max_depth```, ```learning_rate```, ```n_estimators``` parameters. The baseline MSE with default XGBoost parameters is $0.2$. Let's see if we can do better. First, we have to define optimization function and domains."
      ]
    },
    {
      "cell_type": "code",
      "metadata": {
        "id": "627LaQzwtt_c"
      },
      "source": [
        "# Score. Optimizer will try to find minimum, so we will add a \"-\" sign.\n",
        "def f(parameters):\n",
        "    parameters = parameters[0]\n",
        "    score = -cross_val_score(\n",
        "        XGBRegressor(learning_rate=parameters[0],\n",
        "                     max_depth=int(parameters[2]),\n",
        "                     n_estimators=int(parameters[3]),\n",
        "                     gamma=int(parameters[1]),\n",
        "                     min_child_weight = parameters[4]), \n",
        "        X, y, scoring='neg_mean_squared_error'\n",
        "    ).mean()\n",
        "    score = np.array(score)\n",
        "    return score"
      ],
      "execution_count": 23,
      "outputs": []
    },
    {
      "cell_type": "code",
      "metadata": {
        "id": "Jqtahocutt_f",
        "outputId": "cb07b80a-cd09-4a48-fb4f-31fd16f07fb3",
        "colab": {
          "base_uri": "https://localhost:8080/",
          "height": 119
        }
      },
      "source": [
        "baseline = -cross_val_score(\n",
        "    XGBRegressor(), X, y, scoring='neg_mean_squared_error'\n",
        ").mean()\n",
        "baseline"
      ],
      "execution_count": 24,
      "outputs": [
        {
          "output_type": "stream",
          "text": [
            "[05:59:53] WARNING: /workspace/src/objective/regression_obj.cu:152: reg:linear is now deprecated in favor of reg:squarederror.\n",
            "[05:59:53] WARNING: /workspace/src/objective/regression_obj.cu:152: reg:linear is now deprecated in favor of reg:squarederror.\n",
            "[05:59:53] WARNING: /workspace/src/objective/regression_obj.cu:152: reg:linear is now deprecated in favor of reg:squarederror.\n",
            "[05:59:53] WARNING: /workspace/src/objective/regression_obj.cu:152: reg:linear is now deprecated in favor of reg:squarederror.\n",
            "[05:59:53] WARNING: /workspace/src/objective/regression_obj.cu:152: reg:linear is now deprecated in favor of reg:squarederror.\n"
          ],
          "name": "stdout"
        },
        {
          "output_type": "execute_result",
          "data": {
            "text/plain": [
              "3437.074407214106"
            ]
          },
          "metadata": {
            "tags": []
          },
          "execution_count": 24
        }
      ]
    },
    {
      "cell_type": "code",
      "metadata": {
        "id": "bi4n_9xltt_h"
      },
      "source": [
        "# Bounds (NOTE: define continuous variables first, then discrete!)\n",
        "bounds = [\n",
        "    {'name': 'learning_rate',\n",
        "     'type': 'continuous',\n",
        "     'domain': (0, 1)},\n",
        "\n",
        "    {'name': 'gamma',\n",
        "     'type': 'continuous',\n",
        "     'domain': (0, 5)},\n",
        "\n",
        "    {'name': 'max_depth',\n",
        "     'type': 'discrete',\n",
        "     'domain': (1, 50)},\n",
        "\n",
        "    {'name': 'n_estimators',\n",
        "     'type': 'discrete',\n",
        "     'domain': (1, 300)},\n",
        "\n",
        "    {'name': 'min_child_weight',\n",
        "     'type': 'discrete',\n",
        "     'domain': (1, 10)}\n",
        "]"
      ],
      "execution_count": 25,
      "outputs": []
    },
    {
      "cell_type": "code",
      "metadata": {
        "scrolled": false,
        "id": "0qUIWIL7tt_j"
      },
      "source": [
        "np.random.seed(777)\n",
        "optimizer = GPyOpt.methods.BayesianOptimization(\n",
        "    f=f, domain=bounds,\n",
        "    acquisition_type ='MPI',\n",
        "    acquisition_par = 0.1,\n",
        "    exact_eval=True\n",
        ")"
      ],
      "execution_count": null,
      "outputs": []
    },
    {
      "cell_type": "code",
      "metadata": {
        "id": "WAGDwVfwtt_l"
      },
      "source": [
        "max_iter = 50\n",
        "max_time = 60\n",
        "optimizer.run_optimization(max_iter, max_time)"
      ],
      "execution_count": null,
      "outputs": []
    },
    {
      "cell_type": "code",
      "metadata": {
        "id": "bizHMHIatt_r",
        "outputId": "611f4daa-89b6-4eaa-8db9-06aad8551ad8",
        "colab": {
          "base_uri": "https://localhost:8080/",
          "height": 350
        }
      },
      "source": [
        "optimizer.plot_convergence()"
      ],
      "execution_count": 28,
      "outputs": [
        {
          "output_type": "display_data",
          "data": {
            "image/png": "[encoded data removed]",
            "text/plain": [
              "<Figure size 720x360 with 2 Axes>"
            ]
          },
          "metadata": {
            "tags": [],
            "needs_background": "light"
          }
        }
      ]
    },
    {
      "cell_type": "markdown",
      "metadata": {
        "id": "jRdeOUchtt_v"
      },
      "source": [
        "Best values of parameters:"
      ]
    },
    {
      "cell_type": "code",
      "metadata": {
        "id": "cCuUdjzZtt_v",
        "outputId": "ca5bd7dc-8c3e-43de-dbbd-381d392df5a9",
        "colab": {
          "base_uri": "https://localhost:8080/",
          "height": 51
        }
      },
      "source": [
        "optimizer.X[np.argmin(optimizer.Y)]"
      ],
      "execution_count": 29,
      "outputs": [
        {
          "output_type": "execute_result",
          "data": {
            "text/plain": [
              "array([4.76325090e-02, 1.19202751e+00, 1.00000000e+00, 3.00000000e+02,\n",
              "       1.00000000e+00])"
            ]
          },
          "metadata": {
            "tags": []
          },
          "execution_count": 29
        }
      ]
    },
    {
      "cell_type": "code",
      "metadata": {
        "id": "dsh-N3XOtt_x",
        "outputId": "4a8f411c-36d4-4608-d2f2-49c1cb5d7e43",
        "colab": {
          "base_uri": "https://localhost:8080/",
          "height": 34
        }
      },
      "source": [
        "print('MSE:', np.min(optimizer.Y),\n",
        "      'Gain:', baseline/np.min(optimizer.Y)*100)"
      ],
      "execution_count": 30,
      "outputs": [
        {
          "output_type": "stream",
          "text": [
            "MSE: 3189.185708011576 Gain: 107.77278973061391\n"
          ],
          "name": "stdout"
        }
      ]
    },
    {
      "cell_type": "markdown",
      "metadata": {
        "id": "2W_AeyL3tt_0"
      },
      "source": [
        "We were able to get 9% boost without tuning parameters by hand! Let's see if you can do the same. "
      ]
    },
    {
      "cell_type": "markdown",
      "metadata": {
        "id": "7ZxtsqL-tt_0"
      },
      "source": [
        "<b>Task 2.1:</b> Tune SVR model. Find optimal values for three parameters: `C`, `epsilon` and `gamma`. Use range (1e-5, 1000) for `C`, (1e-5, 10) for `epsilon` and `gamma`. Use MPI as an acquisition function with weight 0.1. Submit the optimal value of epsilon that was found by a model."
      ]
    },
    {
      "cell_type": "code",
      "metadata": {
        "id": "lZ8aHXCott_1",
        "outputId": "6ecb4192-7b6a-40e5-dd3f-aeac8f50166d",
        "colab": {
          "base_uri": "https://localhost:8080/",
          "height": 367
        }
      },
      "source": [
        "### YOUR CODE HERE\n",
        "nfold = 3\n",
        "def fit_svr_val(x):\n",
        "    x = np.atleast_2d(np.exp(x))\n",
        "    fs = np.zeros((x.shape[0],1))\n",
        "    for i in range(x.shape[0]):\n",
        "        fs[i] = 0\n",
        "        for n in range(nfold):\n",
        "            idx = np.array(range(X.shape[0]))\n",
        "            idx_valid = np.logical_and(idx>=X.shape[0]/nfold*n, idx<X.shape[0]/nfold*(n+1))\n",
        "            idx_train = np.logical_not(idx_valid)\n",
        "            svr = SVR(C=x[i,0], epsilon=x[i,1],gamma=x[i,2])\n",
        "            svr.fit(X[idx_train],y[idx_train])\n",
        "            fs[i] += np.sqrt(np.square(svr.predict(X[idx_valid])-y[idx_valid]).mean())\n",
        "        fs[i] *= 1./nfold\n",
        "    return fs\n",
        "domain       =[{'name': 'C',      'type': 'continuous', 'domain': (-12.,7.)},\n",
        "               {'name': 'epsilon','type': 'continuous', 'domain': (-12.,2.3)},\n",
        "               {'name': 'gamma',  'type': 'continuous', 'domain': (-12.,2.3)}]\n",
        "opt = GPyOpt.methods.BayesianOptimization(f = fit_svr_val,            # function to optimize       \n",
        "                                          domain = domain,         # box-constraints of the problem\n",
        "                                          acquisition_type ='MPI',       # MPI acquisition\n",
        "                                          acquisition_weight = 0.1)   # Exploration exploitation\n",
        "np.random.seed(779)\n",
        "max_iter = 50*4\n",
        "max_time = 60*4\n",
        "opt.run_optimization(max_iter,max_time)\n",
        "opt.plot_convergence()\n",
        "x_best = np.exp(opt.X[np.argmin(opt.Y)])\n",
        "\n",
        "best_epsilon = x_best[1]### YOUR CODE HERE\n",
        "grader.submit_GPyOpt_1(best_epsilon)"
      ],
      "execution_count": 31,
      "outputs": [
        {
          "output_type": "display_data",
          "data": {
            "image/png": "[encoded data removed]",
            "text/plain": [
              "<Figure size 720x360 with 2 Axes>"
            ]
          },
          "metadata": {
            "tags": [],
            "needs_background": "light"
          }
        },
        {
          "output_type": "stream",
          "text": [
            "Current answer for task 2.1 is: 9.974182454814718\n"
          ],
          "name": "stdout"
        }
      ]
    },
    {
      "cell_type": "markdown",
      "metadata": {
        "id": "uLKm4cajtuAy"
      },
      "source": [
        "<b>Task 2.2:</b> For the model above submit boost in improvement that you got after tuning hyperparameters (output percents) [e.g. if baseline MSE was 40 and you got 20, output number 200]"
      ]
    },
    {
      "cell_type": "code",
      "metadata": {
        "id": "khtOj4tKtuAy",
        "outputId": "97542486-0c5a-4c93-b677-f84dba721073",
        "colab": {
          "base_uri": "https://localhost:8080/",
          "height": 34
        }
      },
      "source": [
        "baseline = -cross_val_score(SVR(gamma='auto'), X,y,scoring='neg_mean_squared_error').mean()\n",
        "performance_boost = baseline/np.min(optimizer.Y)### YOUR CODE HERE\n",
        "grader.submit_GPyOpt_2(performance_boost*100)"
      ],
      "execution_count": 41,
      "outputs": [
        {
          "output_type": "stream",
          "text": [
            "Current answer for task 2.2 is: 190.4867772350245\n"
          ],
          "name": "stdout"
        }
      ]
    },
    {
      "cell_type": "markdown",
      "metadata": {
        "id": "nPi9KI5htuA1"
      },
      "source": [
        "# Authorization & Submission\n",
        "To submit assignment parts to Cousera platform, please, enter your e-mail and token into variables below. You can generate a token on this programming assignment's page. <b>Note:</b> The token expires 30 minutes after generation."
      ]
    },
    {
      "cell_type": "code",
      "metadata": {
        "id": "-ClwVb_qtuA1",
        "outputId": "77be91aa-21d3-401e-9c15-06ade1cf48ec",
        "colab": {
          "base_uri": "https://localhost:8080/",
          "height": 187
        }
      },
      "source": [
        "STUDENT_EMAIL = ''# EMAIL HERE\n",
        "STUDENT_TOKEN = ''# TOKEN HERE\n",
        "grader.status()"
      ],
      "execution_count": 36,
      "outputs": [
        {
          "output_type": "stream",
          "text": [
            "You want to submit these numbers:\n",
            "Task 1.1: 1.0461813545396959\n",
            "Task 1.2 (mean): 0.6646774926102937\n",
            "Task 1.2 (variance): 1.1001478223790582\n",
            "Task 1.3: 1.6252681650349912\n",
            "Task 1.4 (noise): 10.143329676224383\n",
            "Task 1.4 (just signal): 1.4982810919653512e-14\n",
            "Task 1.5: 5.549994529218183\n",
            "Task 2.1: 9.974182454814718\n",
            "Task 2.2: 190.4867772350245\n"
          ],
          "name": "stdout"
        }
      ]
    },
    {
      "cell_type": "markdown",
      "metadata": {
        "id": "nrtv7ScptuA3"
      },
      "source": [
        "If you want to submit these answers, run cell below"
      ]
    },
    {
      "cell_type": "code",
      "metadata": {
        "id": "QPqkQRU_tuA3",
        "outputId": "34cf4149-9b80-4415-b2ee-412577996f08",
        "colab": {
          "base_uri": "https://localhost:8080/",
          "height": 34
        }
      },
      "source": [
        "grader.submit(STUDENT_EMAIL, STUDENT_TOKEN)"
      ],
      "execution_count": 37,
      "outputs": [
        {
          "output_type": "stream",
          "text": [
            "Submitted to Coursera platform. See results on assignment page!\n"
          ],
          "name": "stdout"
        }
      ]
    }
  ]
}
